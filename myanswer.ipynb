{
 "cells": [
  {
   "cell_type": "code",
   "execution_count": null,
   "metadata": {},
   "outputs": [
    {
     "ename": "",
     "evalue": "",
     "output_type": "error",
     "traceback": [
      "\u001b[1;31mRunning cells with 'c:\\Users\\pkpan\\AppData\\Local\\Programs\\Python\\Python311\\python.exe' requires the ipykernel package.\n",
      "\u001b[1;31mRun the following command to install 'ipykernel' into the Python environment. \n",
      "\u001b[1;31mCommand: 'c:/Users/pkpan/AppData/Local/Programs/Python/Python311/python.exe -m pip install ipykernel -U --user --force-reinstall'"
     ]
    }
   ],
   "source": [
    "import time\n",
    "\n",
    "class TrieNode:\n",
    "    def _init_(self):\n",
    "        # Initialize a TrieNode with children and a flag indicating the end of a word\n",
    "        self.children = {}\n",
    "        self.is_end_of_word = False\n",
    "\n",
    "def insert_word(root, word):\n",
    "    # Insert a word into the trie\n",
    "    node = root\n",
    "    for char in word:\n",
    "        if char not in node.children:\n",
    "            node.children[char] = TrieNode()\n",
    "        node = node.children[char]\n",
    "    node.is_end_of_word = True\n",
    "\n",
    "def is_compounded_word(root, word):\n",
    "    # Check if a word is a compounded word\n",
    "    node = root\n",
    "    for i, char in enumerate(word):\n",
    "        if char not in node.children:\n",
    "            return False\n",
    "        node = node.children[char]\n",
    "        if node.is_end_of_word:\n",
    "            # If the current character is the end of a word, check the remaining part recursively\n",
    "            if i == len(word) - 1:\n",
    "                return True\n",
    "            if i + 1 < len(word) and is_compounded_word(root, word[i + 1:]):\n",
    "                return True\n",
    "    return False\n",
    "\n",
    "def find_longest_compounded_word(words):\n",
    "    root = TrieNode()\n",
    "    # Build the trie using the provided word list\n",
    "    for word in words:\n",
    "        insert_word(root, word)\n",
    "\n",
    "    longest_compound = \"\"\n",
    "    second_longest_compound = \"\"\n",
    "\n",
    "    # Iterate through the words to find the longest and second longest compounded words\n",
    "    for word in words:\n",
    "        if is_compounded_word(root, word):\n",
    "            if len(word) > len(longest_compound):\n",
    "                second_longest_compound = longest_compound\n",
    "                longest_compound = word\n",
    "            elif len(word) > len(second_longest_compound):\n",
    "                second_longest_compound = word\n",
    "\n",
    "    return longest_compound, second_longest_compound\n",
    "\n",
    "if _name_ == \"_main_\":\n",
    "    # Record the start time to measure processing time\n",
    "    start_time = time.time()\n",
    "\n",
    "    # Read the word list from the file\n",
    "    with open(\"Input_02.txt\", \"r\") as file:\n",
    "        words = [line.strip() for line in file]\n",
    "\n",
    "    # Find the longest and second longest compounded words\n",
    "    longest, second_longest = find_longest_compounded_word(words)\n",
    "\n",
    "    # Record the end time and calculate processing time\n",
    "    end_time = time.time()\n",
    "    processing_time = (end_time - start_time) * 1000  # Convert to milliseconds\n",
    "\n",
    "    # Print the results and processing time\n",
    "    print(\"Longest Compound Word:\")\n",
    "    print(longest)\n",
    "    print(\"\\nSecond Longest Compound Word:\")\n",
    "    print(second_longest)\n",
    "    print(f\"\\nTime taken to process file Input_02.txt: {processing_time:.2f} milliseconds\")"
   ]
  }
 ],
 "metadata": {
  "kernelspec": {
   "display_name": "Python 3",
   "language": "python",
   "name": "python3"
  },
  "language_info": {
   "name": "python",
   "version": "3.11.1"
  }
 },
 "nbformat": 4,
 "nbformat_minor": 2
}
